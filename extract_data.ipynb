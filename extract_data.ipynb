{
 "cells": [
  {
   "cell_type": "code",
   "execution_count": 26,
   "metadata": {},
   "outputs": [],
   "source": [
    "import cv2 # OpenCV -> Extract images from video"
   ]
  },
  {
   "cell_type": "markdown",
   "metadata": {},
   "source": [
    "## Función para pasar a Blanco y Negro puro, sin grises"
   ]
  },
  {
   "cell_type": "markdown",
   "metadata": {},
   "source": [
    "<p>Para una lectura de imágen se esperan valores entre <b>[0,255]</b>. El vídeo actual ya está en blanco y negro pero por el procesamiento la imágen se \"ensucia\" con ruido, para ello se procesa con el filtro, transformando a escala de negros y aplicando filtro binario de CV2; con lo que los valores del arreglo debiesen quedar: <b>0</b> ó <b>255</p>"
   ]
  },
  {
   "cell_type": "code",
   "execution_count": null,
   "metadata": {},
   "outputs": [],
   "source": [
    "# Resolucion de la imagen:\n",
    "# Lo ideal es un width > height, por ej. (32, 16)\n",
    "width, height = 64,32"
   ]
  },
  {
   "cell_type": "code",
   "execution_count": 27,
   "metadata": {},
   "outputs": [],
   "source": [
    "def filter_image(image):\n",
    "    \"\"\"\n",
    "    Filter image to remove noise and make it more clear\n",
    "\n",
    "    Parameters:\n",
    "        image: image\n",
    "\n",
    "    Return: filtered image\n",
    "    \"\"\"\n",
    "    # Convert to grayscale\n",
    "    grayImg = cv2.cvtColor(image, cv2.COLOR_BGR2GRAY)\n",
    "\n",
    "    # Apply threshold to get image with only black and white ( cv2.THRESH_BINARY )\n",
    "    thresh, blackAndWhiteImage = cv2.threshold(grayImg, 127, 255, cv2.THRESH_BINARY)\n",
    "    return blackAndWhiteImage"
   ]
  },
  {
   "cell_type": "markdown",
   "metadata": {},
   "source": [
    "## Procesamos el vídeo a jpg con CV2"
   ]
  },
  {
   "cell_type": "markdown",
   "metadata": {},
   "source": [
    "<p>Aproximadamente la tasa de vídeo se transforma en <b>30 HZ</b>, es decir, <b>30 frames corresponden a 1 segundo de vídeo</b>. El vídeo cuenta con <b>3:39 minutos</b>, o <b>219 segundos</b> por lo que el esperado de archivos generados es de <b>219 * 30 = 6570 imágenes jpg</b>"
   ]
  },
  {
   "cell_type": "code",
   "execution_count": 28,
   "metadata": {},
   "outputs": [],
   "source": [
    "vidcap = cv2.VideoCapture('./data/bad-apple.mp4')\n",
    "success,image = vidcap.read()\n",
    "count = 0\n",
    "\n",
    "while success:\n",
    "  # Resize image (height x width) & filter image\n",
    "  image = filter_image(cv2.resize(image, (width, height)))\n",
    "  \n",
    "  # save frame as JPG file\n",
    "  cv2.imwrite(\"./data/frame%d.jpg\" % count, image) \n",
    "\n",
    "  # Read next frame from video -> success = True if frame is read; image = array of frame\n",
    "  success,image = vidcap.read() \n",
    "  count += 1"
   ]
  }
 ],
 "metadata": {
  "kernelspec": {
   "display_name": "Python 3.8.10 ('badApple')",
   "language": "python",
   "name": "python3"
  },
  "language_info": {
   "codemirror_mode": {
    "name": "ipython",
    "version": 3
   },
   "file_extension": ".py",
   "mimetype": "text/x-python",
   "name": "python",
   "nbconvert_exporter": "python",
   "pygments_lexer": "ipython3",
   "version": "3.8.10"
  },
  "orig_nbformat": 4,
  "vscode": {
   "interpreter": {
    "hash": "41c07e99c42844c609f8eead72f189da978a4756b37b19338bd281d70ed1242a"
   }
  }
 },
 "nbformat": 4,
 "nbformat_minor": 2
}
