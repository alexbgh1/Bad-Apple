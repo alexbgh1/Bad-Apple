{
 "cells": [
  {
   "cell_type": "code",
   "execution_count": 46,
   "metadata": {},
   "outputs": [],
   "source": [
    "from PIL import Image # Read image\n",
    "import numpy as np # Matrix operations\n",
    "import cv2\n",
    "from IPython.display import clear_output\n",
    "from time import sleep\n",
    "import vlc"
   ]
  },
  {
   "cell_type": "code",
   "execution_count": 17,
   "metadata": {},
   "outputs": [],
   "source": [
    "largo_frames_jpg = 6572"
   ]
  },
  {
   "cell_type": "code",
   "execution_count": 49,
   "metadata": {},
   "outputs": [],
   "source": [
    "\n",
    "\n",
    "def process_to_ascii(data):\n",
    "    \"\"\"\n",
    "    Process incoming data so that it contains color values 0 or 255\n",
    "    data to ascii\n",
    "    \n",
    "    Parameters:\n",
    "        data: np.array of the image\n",
    "\n",
    "    Returns:\n",
    "        data: ascii string of the image\n",
    "    \"\"\"\n",
    "    # Expected in this case: (64x32)\n",
    "    height, width = data.shape\n",
    "    iterador = np.nditer(data)\n",
    "    cont = 0\n",
    "    \n",
    "    image_to_ascii = ''\n",
    "    for x in iterador:\n",
    "        # if x == 255 -> color = white\n",
    "        if (x):\n",
    "            image_to_ascii += '-'\n",
    "        # else x == 0 -> color = black\n",
    "        else:\n",
    "            image_to_ascii += '#'\n",
    "        \n",
    "        # Salto de linea al terminar de recorrer un renglon\n",
    "        cont +=1\n",
    "        if (cont == width):\n",
    "            cont = 0\n",
    "            image_to_ascii += '\\n'\n",
    "\n",
    "    return image_to_ascii"
   ]
  },
  {
   "cell_type": "code",
   "execution_count": 50,
   "metadata": {},
   "outputs": [
    {
     "name": "stdout",
     "output_type": "stream",
     "text": [
      "-###--#--##-#-#-###-#-###-###--#################################\n",
      "#-#-##---#-#-#-##-##-##--#-#-##-################################\n",
      "##-#--########------#-----##-###################################\n",
      "######-#-#-#--------------#-#---################################\n",
      "--#--####--------------------###################################\n",
      "##-##-##-#-------------------#--################################\n",
      "#---#--##----------------------#################################\n",
      "-##-##-##---------------------#-################################\n",
      "-#####-##---------------------#-#########################-##-#-#\n",
      "-#-##--------------------------##############################-#-\n",
      "###-#-------------------------#-###########################--#-#\n",
      "#-##-##------------------------##########################--###--\n",
      "#-####-#------------------------##########################----##\n",
      "-#--#-##---------------------##-########################-##-#-#-\n",
      "#-####------------------------###########################-####--\n",
      "###--##----------------------###########################-##-##-#\n",
      "###-#-#-----------------------###-#####-########################\n",
      "#-#--#------------------------#--###---#########################\n",
      "#-####-------------------------###-#############################\n",
      "#-#----##-#--------------------#-##-#--#########################\n",
      "###-##-#----------------------#---##-###########################\n",
      "-###-##----------------------#-####-###-########################\n",
      "##---##-----------------------#-----#-##########################\n",
      "#-###--------------------------#----##-#########################\n",
      "-#--##-------------------------#----#-##########################\n",
      "##-#--------------------------------############################\n",
      "#-###---------------------------------#-########################\n",
      "-#-#--------------------------------##-#########################\n",
      "#-###-------------------------------##--########################\n",
      "-#--#-------------------------------##-#########################\n",
      "#-##----------------------#---------###-########################\n",
      "-##--------------------------------#-###########################\n",
      "\n"
     ]
    }
   ],
   "source": [
    "# # Example use\n",
    "# img = Image.open('frame1966.jpg')\n",
    "# # convert image to numpy array\n",
    "# data = np.asarray(img)\n",
    "# asc = process_to_ascii(data)\n",
    "# print(asc)"
   ]
  },
  {
   "cell_type": "markdown",
   "metadata": {},
   "source": [
    "## Procesándolo y mostrando a la vez"
   ]
  },
  {
   "cell_type": "code",
   "execution_count": null,
   "metadata": {},
   "outputs": [],
   "source": [
    "# for i in range(largo_frames_jpg):\n",
    "#     # read image values 'frame{i}.jpg' using PIL\n",
    "#     img = Image.open('./data/frame%d.jpg'%i)\n",
    "\n",
    "#     # convert image to numpy array\n",
    "#     data = np.asarray(img)\n",
    "\n",
    "#     # process to ascii\n",
    "#     asc = process_to_ascii(data)\n",
    "#     print(asc)\n",
    "#     sleep(0.033)\n",
    "#     clear_output(wait=True)"
   ]
  },
  {
   "cell_type": "markdown",
   "metadata": {},
   "source": [
    "## Procesamiento de los datos imágen a lista string."
   ]
  },
  {
   "cell_type": "code",
   "execution_count": 16,
   "metadata": {},
   "outputs": [],
   "source": [
    "frames = []\n",
    "for i in range(0,largo_frames_jpg):\n",
    "    img = Image.open('./data/frame%d.jpg'%i)\n",
    "    data = np.asarray(img)\n",
    "    asc = process_to_ascii(data)\n",
    "    frames.append(asc)"
   ]
  },
  {
   "cell_type": "markdown",
   "metadata": {},
   "source": [
    "### Advertencia audio"
   ]
  },
  {
   "cell_type": "code",
   "execution_count": 47,
   "metadata": {},
   "outputs": [
    {
     "data": {
      "text/plain": [
       "0"
      ]
     },
     "execution_count": 47,
     "metadata": {},
     "output_type": "execute_result"
    }
   ],
   "source": [
    "media_player = vlc.MediaPlayer(\"/data/bad-apple.mp3\")\n",
    "media_player.audio_set_volume(80)"
   ]
  },
  {
   "cell_type": "code",
   "execution_count": 51,
   "metadata": {},
   "outputs": [
    {
     "name": "stdout",
     "output_type": "stream",
     "text": [
      "@@@@@@@@@@@@@@@@@@@@@@@@@@@@@@@@@@@@@@@@@@@@@@@@@@@@@@@@@@@@@@@@\n",
      "@@@@@@@@@@@@@@@@@@@@@@@@@@@@@@@@@@@@@@@@@@@@@@@@@@@@@@@@@@@@@@@@\n",
      "@@@@@@@@@@@@@@@@@@@@@@@@@@@@@@@@@@@@@@@@@@@@@@@@@@@@@@@@@@@@@@@@\n",
      "@@@@@@@@@@@@@@@@@@@@@@@@@@@@@@@@@@@@@@@@@@@@@@@@@@@@@@@@@@@@@@@@\n",
      "@@@@@@@@@@@@@@@@@@@@@@@@@@@@@@@@@@@@@@@@@@@@@@@@@@@@@@@@@@@@@@@@\n",
      "@@@@@@@@@@@@@@@@@@@@@@@@@@@@@@@@@@@@@@@@@@@@@@@@@@@@@@@@@@@@@@@@\n",
      "@@@@@@@@@@@@@@@@@@@@@@@@@@@@@@@@@@@@@@@@@@@@@@@@@@@@@@@@@@@@@@@@\n",
      "@@@@@@@@@@@@@@@@@@@@@@@@@@@@@@@@@@@@@@@@@@@@@@@@@@@@@@@@@@@@@@@@\n",
      "@@@@@@@@@@@@@@@@@@@@@@@@@@@@@@@@@-@-@@-@-----@-@@@-@@-@-@@@@@@@@\n",
      "@@@@@@@@@@@@@@@@@@@@@@@@@@@@@@@@-@@@-@------@@@@-@-@-@-@@@@@@@@@\n",
      "@@@@@@@@@@@@@@@@@@@@@@@@@@@@@@@@-@-@-@@--------@@@--@-@-@@@@@@@@\n",
      "@@@@@@@@@@@@@@@@@@@@@@@@@@@@@@@@@-@@--@-------@@@-@-@@@@@@@@@@@@\n",
      "@@@@@@@@@@@@@@@@@@@@@@@@@@@@@@@@-@@@@@@------@-@--@--@@@@@@@@@@@\n",
      "@@@@@@@@@@@@@@@@@@@@@@@@@@@@@@@@@@--@@-@-------@@@@-@@-@@@@@@@@@\n",
      "@@@@@@@@@@@@@@@@@@@@@@@@@@@@@@@@@@@@--@@@------------@@-@@@@@@@@\n",
      "@@@@@@@@@@@@@@@@@@@@@@@@@@@@@@@@@@-@@@-@-----------@@@-@@@@@@@@@\n",
      "@@-@@@@@@--@-@@--@-@@@-@@@-@-@@@@-@---@@--------------@-@@@@@@@@\n",
      "-@-@@-@@-@@@---@@-@-@@-@@@@@@-@@-@@-@@--------------@@-@@@@@@@@@\n",
      "@@@--@-----@@@@--@-@@---@@--@@--@@---@@@---@-------@-@@@@@@@@@@@\n",
      "@-@@@---@-@---@--@@@-@@@-@@@-@@@--@@@@-@@-@-@--@-@-@@@@@@@@@@@@@\n",
      "@@--@---@-@-@@-@@@@-@---@@-@@--@@--@-@@-@@@@@@@@@-@@--@@@@@@@@@@\n",
      "-@-@@---@@-@--@@@-@@-@@@@--@-@@--@-@@-@@@-@@--@-@---@@@@@@@@@@@@\n",
      "-@@-------@-@--@@--@@@---@@@@@--@-@@--@-@@@--@@--@-@-@@-@@@@@@@@\n",
      "@@-----------@@@-@@-@@-----@@-@@-@-@@@-@@@-@@--@@-@@@-@@@@@@@@@@\n",
      "@-@---------@@@@-@@-@@----@-@--@@@@@@@@@@@@@@@@@@@@@@@@@@@@@@@@@\n",
      "--------------------------@--@@-@@@@@@@@@@@@@@@@@@@@@@@@@@@@@@@@\n",
      "---------------------------@@-@@@@@@@@@@@@@@@@@@@@@@@@@@@@@@@@@@\n",
      "-------------------------@@@-@-@@@@@@@@@@@@@@@@@@@@@@@@@@@@@@@@@\n",
      "----------------------------@@@-@@@@@@@@@@@@@@@@@@@@@@@@@@@@@@@@\n",
      "-------------------------@@@@--@@@@@@@@@@@@@@@@@@@@@@@@@@@@@@@@@\n",
      "--------------------------@-@@-@@@@@@@@@@@@@@@@@@@@@@@@@@@@@@@@@\n",
      "-------------------------@@@@-@-@@@@@@@@@@@@@@@@@@@@@@@@@@@@@@@@\n",
      "\n"
     ]
    },
    {
     "ename": "KeyboardInterrupt",
     "evalue": "",
     "output_type": "error",
     "traceback": [
      "\u001b[1;31m---------------------------------------------------------------------------\u001b[0m",
      "\u001b[1;31mKeyboardInterrupt\u001b[0m                         Traceback (most recent call last)",
      "\u001b[1;32mc:\\Users\\darko\\Desktop\\Proyectos\\Bad Apple\\use_data.ipynb Celda 11\u001b[0m in \u001b[0;36m<cell line: 2>\u001b[1;34m()\u001b[0m\n\u001b[0;32m      <a href='vscode-notebook-cell:/c%3A/Users/darko/Desktop/Proyectos/Bad%20Apple/use_data.ipynb#X11sZmlsZQ%3D%3D?line=1'>2</a>\u001b[0m \u001b[39mfor\u001b[39;00m img_ascii \u001b[39min\u001b[39;00m frames:\n\u001b[0;32m      <a href='vscode-notebook-cell:/c%3A/Users/darko/Desktop/Proyectos/Bad%20Apple/use_data.ipynb#X11sZmlsZQ%3D%3D?line=2'>3</a>\u001b[0m     \u001b[39mprint\u001b[39m(img_ascii)\n\u001b[1;32m----> <a href='vscode-notebook-cell:/c%3A/Users/darko/Desktop/Proyectos/Bad%20Apple/use_data.ipynb#X11sZmlsZQ%3D%3D?line=3'>4</a>\u001b[0m     sleep(\u001b[39m0.033\u001b[39;49m)\n\u001b[0;32m      <a href='vscode-notebook-cell:/c%3A/Users/darko/Desktop/Proyectos/Bad%20Apple/use_data.ipynb#X11sZmlsZQ%3D%3D?line=4'>5</a>\u001b[0m     clear_output(wait\u001b[39m=\u001b[39m\u001b[39mTrue\u001b[39;00m)\n\u001b[0;32m      <a href='vscode-notebook-cell:/c%3A/Users/darko/Desktop/Proyectos/Bad%20Apple/use_data.ipynb#X11sZmlsZQ%3D%3D?line=5'>6</a>\u001b[0m media_player\u001b[39m.\u001b[39mstop()\n",
      "\u001b[1;31mKeyboardInterrupt\u001b[0m: "
     ]
    }
   ],
   "source": [
    "media_player.play()\n",
    "for img_ascii in frames:\n",
    "    print(img_ascii)\n",
    "    sleep(0.033)\n",
    "    clear_output(wait=True)\n",
    "media_player.stop()"
   ]
  },
  {
   "cell_type": "code",
   "execution_count": 52,
   "metadata": {},
   "outputs": [],
   "source": [
    "media_player.stop()"
   ]
  }
 ],
 "metadata": {
  "kernelspec": {
   "display_name": "Python 3.8.10 ('badApple')",
   "language": "python",
   "name": "python3"
  },
  "language_info": {
   "codemirror_mode": {
    "name": "ipython",
    "version": 3
   },
   "file_extension": ".py",
   "mimetype": "text/x-python",
   "name": "python",
   "nbconvert_exporter": "python",
   "pygments_lexer": "ipython3",
   "version": "3.8.10"
  },
  "orig_nbformat": 4,
  "vscode": {
   "interpreter": {
    "hash": "41c07e99c42844c609f8eead72f189da978a4756b37b19338bd281d70ed1242a"
   }
  }
 },
 "nbformat": 4,
 "nbformat_minor": 2
}
